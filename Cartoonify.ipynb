{
 "cells": [
  {
   "cell_type": "code",
   "execution_count": 4,
   "metadata": {},
   "outputs": [],
   "source": [
    "import numpy as np\n",
    "import cv2 as cv"
   ]
  },
  {
   "cell_type": "code",
   "execution_count": 5,
   "metadata": {},
   "outputs": [],
   "source": [
    "class Cartoonizer:\n",
    "    def __init__(self):\n",
    "        pass\n",
    "    \n",
    "    def render(self, img_rgb):\n",
    "        # read the image\n",
    "        img_rgb = cv.imread(img_rgb)\n",
    "        img_rgb = cv.resize(img_rgb, (1366, 768))\n",
    "        numDownSamples = 2 # number of downscaling steps\n",
    "        numBilateralFilters = 50 # number of bilateral filtering steps\n",
    "        \n",
    "        # downsample image using Gaussian pyramid\n",
    "        # pyramid or pyramid representation is a type of multi-scale signal representation in which a signal or an image\n",
    "        # is subject to repeated smoothing and subsampling.\n",
    "        img_color = img_rgb\n",
    "        for _ in range(numDownSamples):\n",
    "            img_color = cv.pyrDown(img_color)\n",
    "        \n",
    "        # repeatedly apply small bilateral filters instead of one large filter\n",
    "        # bilateral filter is used for smoothing and is like a Gaussian filter, except that it does not make the edges disappear\n",
    "        for _ in range(numBilateralFilters):\n",
    "            img_color = cv.bilateralFilter(img_color, 9, 9, 7)\n",
    "        \n",
    "        # upsample image to original size\n",
    "        for _ in range(numDownSamples):\n",
    "            img_color = cv.pyrUp(img_color)\n",
    "        \n",
    "        # convert to grayscale and apply median blur\n",
    "        img_gray = cv.cvtColor(img_rgb, cv.COLOR_BGR2GRAY)\n",
    "        img_blur = cv.medianBlur(img_gray, 3)\n",
    "        \n",
    "        # detect and enhance edges\n",
    "        img_edge = cv.adaptiveThreshold(img_blur, 255, cv.ADAPTIVE_THRESH_MEAN_C, cv.THRESH_BINARY, 9, 2)\n",
    "        \n",
    "        # convert back to color so that it can be bit-ANDed with color image\n",
    "        (x, y, z) = img_color.shape\n",
    "        img_edge = cv.resize(img_edge, (y, x))\n",
    "        img_edge = cv.cvtColor(img_edge, cv.COLOR_GRAY2BGR)\n",
    "        cv.imwrite('edge.png', img_edge)\n",
    "        \n",
    "        return cv.bitwise_and(img_color, img_edge)"
   ]
  },
  {
   "cell_type": "code",
   "execution_count": null,
   "metadata": {},
   "outputs": [],
   "source": [
    "tmp_canvas = Cartoonizer() \n",
    "\n",
    "# start capturing video\n",
    "cap = cv.VideoCapture(0)\n",
    "# capture just the first frame\n",
    "ret, frame = cap.read()\n",
    "# write the image to a temporary file\n",
    "cv.imwrite('test.jpg', frame)\n",
    "cap.release()\n",
    "\n",
    "# use this temporary file\n",
    "file_name = \"test.jpg\"\n",
    "res = tmp_canvas.render(file_name) \n",
    "  \n",
    "cv.imshow(\"Cartoon version\", res) \n",
    "cv.waitKey(0) \n",
    "cv.destroyAllWindows() "
   ]
  },
  {
   "cell_type": "code",
   "execution_count": null,
   "metadata": {},
   "outputs": [],
   "source": []
  }
 ],
 "metadata": {
  "kernelspec": {
   "display_name": "Python 3",
   "language": "python",
   "name": "python3"
  },
  "language_info": {
   "codemirror_mode": {
    "name": "ipython",
    "version": 3
   },
   "file_extension": ".py",
   "mimetype": "text/x-python",
   "name": "python",
   "nbconvert_exporter": "python",
   "pygments_lexer": "ipython3",
   "version": "3.7.7"
  }
 },
 "nbformat": 4,
 "nbformat_minor": 4
}
